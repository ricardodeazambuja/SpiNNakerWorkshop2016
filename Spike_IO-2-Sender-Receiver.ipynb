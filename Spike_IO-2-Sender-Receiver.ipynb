{
 "cells": [
  {
   "cell_type": "code",
   "execution_count": 1,
   "metadata": {
    "collapsed": true
   },
   "outputs": [],
   "source": [
    "from spynnaker_external_devices_plugin.pyNN.connections\\\n",
    "    .spynnaker_live_spikes_connection import SpynnakerLiveSpikesConnection"
   ]
  },
  {
   "cell_type": "code",
   "execution_count": 2,
   "metadata": {
    "collapsed": false
   },
   "outputs": [],
   "source": [
    "# plotter in python\n",
    "%matplotlib notebook\n",
    "import matplotlib.pyplot as plt\n",
    "\n",
    "import time as my_time\n",
    "import numpy"
   ]
  },
  {
   "cell_type": "code",
   "execution_count": 3,
   "metadata": {
    "collapsed": true
   },
   "outputs": [],
   "source": [
    "feedback_delay = 20/1000.\n",
    "\n",
    "n_neurons = 3000"
   ]
  },
  {
   "cell_type": "code",
   "execution_count": 4,
   "metadata": {
    "collapsed": false
   },
   "outputs": [],
   "source": [
    "# SpynnakerLiveSpikesConnection(self, receive_labels=None, send_labels=None, local_host=None, local_port=19999)\n",
    "\n",
    "# Set up the live connection for sending and receiving spikes\n",
    "live_spikes_connection = SpynnakerLiveSpikesConnection(\n",
    "    receive_labels=[\"pop_output\"], \n",
    "    send_labels=[\"spike_injector\"],\n",
    "    local_port=12346)"
   ]
  },
  {
   "cell_type": "code",
   "execution_count": 5,
   "metadata": {
    "collapsed": true
   },
   "outputs": [],
   "source": [
    "# Create an initialisation method\n",
    "def init_pop(label, n_neurons, run_time_ms, machine_timestep_ms):\n",
    "    print \"{} has {} neurons\".format(label, n_neurons)\n",
    "    print \"Simulation will run for {}ms at {}ms timesteps\".format(run_time_ms, machine_timestep_ms)"
   ]
  },
  {
   "cell_type": "code",
   "execution_count": 6,
   "metadata": {
    "collapsed": true
   },
   "outputs": [],
   "source": [
    "def receive_spikes(label, time, neuron_ids):\n",
    "    my_time.sleep(feedback_delay)\n",
    "    live_spikes_connection.send_spikes(\"spike_injector\", neuron_ids)\n",
    "#     for neuron_id in neuron_ids:\n",
    "#         print \"Received spike at time\", time, \"from\", label, \"-\", neuron_id"
   ]
  },
  {
   "cell_type": "code",
   "execution_count": 7,
   "metadata": {
    "collapsed": true
   },
   "outputs": [],
   "source": [
    "initial_array = numpy.arange(n_neurons)\n",
    "numpy.random.shuffle(initial_array)\n",
    "def started(label, sender):\n",
    "    print \"{}=>Simulation has started!\".format(label)\n",
    "    sender.send_spikes(\"spike_injector\", initial_array[:100])"
   ]
  },
  {
   "cell_type": "code",
   "execution_count": 8,
   "metadata": {
    "collapsed": false
   },
   "outputs": [
    {
     "name": "stdout",
     "output_type": "stream",
     "text": [
      "spike_injector has 3000 neurons\n",
      "Simulation will run for 1000.0ms at 1.0ms timesteps\n",
      "pop_output has 3000 neurons\n",
      "Simulation will run for 1000.0ms at 1.0ms timesteps\n",
      "pop_output=>Simulation has started!\n",
      "spike_injector=>Simulation has started!\n"
     ]
    },
    {
     "name": "stderr",
     "output_type": "stream",
     "text": [
      "spynnaker database connection for None:12346: <Thread(start callback thread for live_event_connection12346:0.0.0.0, initial daemon)>.start(): starting thread\n",
      "start callback thread for live_event_connection12346:0.0.0.0: <Thread(start callback thread for live_event_connection12346:0.0.0.0, started daemon 4687564800)>.__bootstrap(): thread started\n",
      "start callback thread for live_event_connection12346:0.0.0.0: <Thread(start callback thread for live_event_connection12346:0.0.0.0, started daemon 4687564800)>.__bootstrap(): normal return\n",
      "spynnaker database connection for None:12346: <Thread(start callback thread for live_event_connection12346:0.0.0.0, initial daemon)>.start(): starting thread\n",
      "start callback thread for live_event_connection12346:0.0.0.0: <Thread(start callback thread for live_event_connection12346:0.0.0.0, started daemon 4687564800)>.__bootstrap(): thread started\n",
      "start callback thread for live_event_connection12346:0.0.0.0: <Thread(start callback thread for live_event_connection12346:0.0.0.0, started daemon 4687564800)>.__bootstrap(): normal return\n"
     ]
    }
   ],
   "source": [
    "live_spikes_connection.add_receive_callback(\"pop_output\", receive_spikes)\n",
    "\n",
    "live_spikes_connection.add_init_callback(\"pop_output\", init_pop)\n",
    "live_spikes_connection.add_init_callback(\"spike_injector\", init_pop)\n",
    "\n",
    "live_spikes_connection.add_start_callback(\"pop_output\",started)\n",
    "live_spikes_connection.add_start_callback(\"spike_injector\",started)"
   ]
  },
  {
   "cell_type": "code",
   "execution_count": 8,
   "metadata": {
    "collapsed": true
   },
   "outputs": [],
   "source": []
  },
  {
   "cell_type": "code",
   "execution_count": null,
   "metadata": {
    "collapsed": true
   },
   "outputs": [],
   "source": []
  }
 ],
 "metadata": {
  "kernelspec": {
   "display_name": "Python 2",
   "language": "python",
   "name": "python2"
  },
  "language_info": {
   "codemirror_mode": {
    "name": "ipython",
    "version": 2
   },
   "file_extension": ".py",
   "mimetype": "text/x-python",
   "name": "python",
   "nbconvert_exporter": "python",
   "pygments_lexer": "ipython2",
   "version": "2.7.11"
  },
  "widgets": {
   "state": {},
   "version": "1.1.2"
  }
 },
 "nbformat": 4,
 "nbformat_minor": 0
}
