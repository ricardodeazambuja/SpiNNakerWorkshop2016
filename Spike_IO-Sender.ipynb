{
 "cells": [
  {
   "cell_type": "code",
   "execution_count": 1,
   "metadata": {
    "collapsed": true
   },
   "outputs": [],
   "source": [
    "from spynnaker_external_devices_plugin.pyNN.connections\\\n",
    "    .spynnaker_live_spikes_connection import SpynnakerLiveSpikesConnection"
   ]
  },
  {
   "cell_type": "code",
   "execution_count": 2,
   "metadata": {
    "collapsed": true
   },
   "outputs": [],
   "source": [
    "# plotter in python\n",
    "%matplotlib notebook\n",
    "import matplotlib.pyplot as plt\n",
    "\n",
    "import time\n",
    "import numpy"
   ]
  },
  {
   "cell_type": "code",
   "execution_count": 3,
   "metadata": {
    "collapsed": false
   },
   "outputs": [],
   "source": [
    "# SpynnakerLiveSpikesConnection(self, receive_labels=None, send_labels=None, local_host=None, local_port=19999)\n",
    "\n",
    "# Set up the live connection for sending and receiving spikes\n",
    "live_spikes_connection = SpynnakerLiveSpikesConnection(\n",
    "    receive_labels=None, \n",
    "    send_labels=[\"spike_injector\"],\n",
    "    local_port=12345)"
   ]
  },
  {
   "cell_type": "code",
   "execution_count": 4,
   "metadata": {
    "collapsed": true
   },
   "outputs": [],
   "source": [
    "def started(label, rubbish):\n",
    "    print \"Simulation has started!\""
   ]
  },
  {
   "cell_type": "code",
   "execution_count": 5,
   "metadata": {
    "collapsed": true
   },
   "outputs": [],
   "source": [
    "# Create an initialisation method\n",
    "def init_pop(label, n_neurons, run_time_ms, machine_timestep_ms):\n",
    "    print \"{} has {} neurons\".format(label, n_neurons)\n",
    "    print \"Simulation will run for {}ms at {}ms timesteps\".format(\n",
    "        run_time_ms, machine_timestep_ms)"
   ]
  },
  {
   "cell_type": "code",
   "execution_count": 6,
   "metadata": {
    "collapsed": false
   },
   "outputs": [
    {
     "name": "stdout",
     "output_type": "stream",
     "text": [
      "spike_injector has 3000 neurons\n",
      "Simulation will run for 5000.0ms at 1.0ms timesteps\n",
      "Simulation has started!\n"
     ]
    },
    {
     "name": "stderr",
     "output_type": "stream",
     "text": [
      "spynnaker database connection for None:12345: <Thread(start callback thread for live_event_connection12345:0.0.0.0, initial daemon)>.start(): starting thread\n",
      "start callback thread for live_event_connection12345:0.0.0.0: <Thread(start callback thread for live_event_connection12345:0.0.0.0, started daemon 4582252544)>.__bootstrap(): thread started\n",
      "start callback thread for live_event_connection12345:0.0.0.0: <Thread(start callback thread for live_event_connection12345:0.0.0.0, started daemon 4582252544)>.__bootstrap(): normal return\n"
     ]
    }
   ],
   "source": [
    "live_spikes_connection.add_start_callback(\"spike_injector\",started)\n",
    "live_spikes_connection.add_init_callback(\"spike_injector\", init_pop)"
   ]
  },
  {
   "cell_type": "code",
   "execution_count": 6,
   "metadata": {
    "collapsed": true
   },
   "outputs": [],
   "source": [
    "# live_spikes_connection.add_database_callback\n",
    "# Add a database callback to be called when the database is ready\n",
    "\n",
    "# live_spikes_connection.add_start_callback\n",
    "# Add a callback for the start of the simulation"
   ]
  },
  {
   "cell_type": "code",
   "execution_count": 8,
   "metadata": {
    "collapsed": false
   },
   "outputs": [],
   "source": [
    "live_spikes_connection.send_spikes(\"spike_injector\", range(100))"
   ]
  },
  {
   "cell_type": "code",
   "execution_count": null,
   "metadata": {
    "collapsed": true
   },
   "outputs": [],
   "source": []
  }
 ],
 "metadata": {
  "kernelspec": {
   "display_name": "Python 2",
   "language": "python",
   "name": "python2"
  },
  "language_info": {
   "codemirror_mode": {
    "name": "ipython",
    "version": 2
   },
   "file_extension": ".py",
   "mimetype": "text/x-python",
   "name": "python",
   "nbconvert_exporter": "python",
   "pygments_lexer": "ipython2",
   "version": "2.7.11"
  },
  "widgets": {
   "state": {},
   "version": "1.1.2"
  }
 },
 "nbformat": 4,
 "nbformat_minor": 0
}
