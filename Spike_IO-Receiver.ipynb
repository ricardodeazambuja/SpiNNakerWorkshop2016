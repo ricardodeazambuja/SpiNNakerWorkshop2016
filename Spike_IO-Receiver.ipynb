{
 "cells": [
  {
   "cell_type": "code",
   "execution_count": 1,
   "metadata": {
    "collapsed": true
   },
   "outputs": [],
   "source": [
    "from spynnaker_external_devices_plugin.pyNN.connections\\\n",
    "    .spynnaker_live_spikes_connection import SpynnakerLiveSpikesConnection"
   ]
  },
  {
   "cell_type": "code",
   "execution_count": 2,
   "metadata": {
    "collapsed": true
   },
   "outputs": [],
   "source": [
    "# plotter in python\n",
    "%matplotlib notebook\n",
    "import matplotlib.pyplot as plt\n",
    "\n",
    "import time\n",
    "import numpy"
   ]
  },
  {
   "cell_type": "code",
   "execution_count": 3,
   "metadata": {
    "collapsed": false
   },
   "outputs": [],
   "source": [
    "# SpynnakerLiveSpikesConnection(self, receive_labels=None, send_labels=None, local_host=None, local_port=19999)\n",
    "\n",
    "# Set up the live connection for sending and receiving spikes\n",
    "live_spikes_connection = SpynnakerLiveSpikesConnection(\n",
    "    receive_labels=[\"pop_output\"], \n",
    "    send_labels=None,\n",
    "    local_port=12346)"
   ]
  },
  {
   "cell_type": "code",
   "execution_count": 4,
   "metadata": {
    "collapsed": true
   },
   "outputs": [],
   "source": [
    "# Create an initialisation method\n",
    "def init_pop(label, n_neurons, run_time_ms, machine_timestep_ms):\n",
    "    print \"{} has {} neurons\".format(label, n_neurons)\n",
    "    print \"Simulation will run for {}ms at {}ms timesteps\".format(\n",
    "        run_time_ms, machine_timestep_ms)"
   ]
  },
  {
   "cell_type": "code",
   "execution_count": 5,
   "metadata": {
    "collapsed": true
   },
   "outputs": [],
   "source": [
    "def receive_spikes(label, time, neuron_ids):\n",
    "    for neuron_id in neuron_ids:\n",
    "        print \"Received spike at time\", time, \"from\", label, \"-\", neuron_id"
   ]
  },
  {
   "cell_type": "code",
   "execution_count": 6,
   "metadata": {
    "collapsed": true
   },
   "outputs": [],
   "source": [
    "def started(label, rubbish):\n",
    "    print \"Simulation has started!\""
   ]
  },
  {
   "cell_type": "code",
   "execution_count": 7,
   "metadata": {
    "collapsed": false
   },
   "outputs": [
    {
     "name": "stdout",
     "output_type": "stream",
     "text": [
      "pop_output has 3000 neurons\n",
      "Simulation will run for 5000.0ms at 1.0ms timesteps\n",
      "Simulation has started!\n"
     ]
    },
    {
     "name": "stderr",
     "output_type": "stream",
     "text": [
      "spynnaker database connection for None:12346: <Thread(start callback thread for live_event_connection12346:0.0.0.0, initial daemon)>.start(): starting thread\n",
      "start callback thread for live_event_connection12346:0.0.0.0: <Thread(start callback thread for live_event_connection12346:0.0.0.0, started daemon 4454391808)>.__bootstrap(): thread started\n",
      "start callback thread for live_event_connection12346:0.0.0.0: <Thread(start callback thread for live_event_connection12346:0.0.0.0, started daemon 4454391808)>.__bootstrap(): normal return\n"
     ]
    },
    {
     "name": "stdout",
     "output_type": "stream",
     "text": [
      "Received spike at time 1729 from pop_output - 0\n",
      "Received spike at time 1729 from pop_output - 1\n",
      "Received spike at time 1729 from pop_output - 2\n",
      "Received spike at time 1729 from pop_output - 3\n",
      "Received spike at time 1729 from pop_output - 4\n",
      "Received spike at time 1729 from pop_output - 5\n",
      "Received spike at time 1729 from pop_output - 6\n",
      "Received spike at time 1729 from pop_output - 7\n",
      "Received spike at time 1729 from pop_output - 8\n",
      "Received spike at time 1729 from pop_output - 9\n",
      "Received spike at time 1729 from pop_output - 10\n",
      "Received spike at time 1729 from pop_output - 11\n",
      "Received spike at time 1729 from pop_output - 12\n",
      "Received spike at time 1729 from pop_output - 13\n",
      "Received spike at time 1729 from pop_output - 14\n",
      "Received spike at time 1729 from pop_output - 15\n",
      "Received spike at time 1729 from pop_output - 16\n",
      "Received spike at time 1729 from pop_output - 17\n",
      "Received spike at time 1729 from pop_output - 18\n",
      "Received spike at time 1729 from pop_output - 19\n",
      "Received spike at time 1729 from pop_output - 20\n",
      "Received spike at time 1729 from pop_output - 21\n",
      "Received spike at time 1729 from pop_output - 22\n",
      "Received spike at time 1729 from pop_output - 23\n",
      "Received spike at time 1729 from pop_output - 24\n",
      "Received spike at time 1729 from pop_output - 25\n",
      "Received spike at time 1729 from pop_output - 26\n",
      "Received spike at time 1729 from pop_output - 27\n",
      "Received spike at time 1729 from pop_output - 28\n",
      "Received spike at time 1729 from pop_output - 29\n",
      "Received spike at time 1729 from pop_output - 30\n",
      "Received spike at time 1729 from pop_output - 31\n",
      "Received spike at time 1729 from pop_output - 32\n",
      "Received spike at time 1729 from pop_output - 33\n",
      "Received spike at time 1729 from pop_output - 34\n",
      "Received spike at time 1729 from pop_output - 35\n",
      "Received spike at time 1729 from pop_output - 36\n",
      "Received spike at time 1729 from pop_output - 37\n",
      "Received spike at time 1729 from pop_output - 38\n",
      "Received spike at time 1729 from pop_output - 39\n",
      "Received spike at time 1729 from pop_output - 40\n",
      "Received spike at time 1729 from pop_output - 41\n",
      "Received spike at time 1729 from pop_output - 42\n",
      "Received spike at time 1729 from pop_output - 43\n",
      "Received spike at time 1729 from pop_output - 44\n",
      "Received spike at time 1729 from pop_output - 45\n",
      "Received spike at time 1729 from pop_output - 46\n",
      "Received spike at time 1729 from pop_output - 47\n",
      "Received spike at time 1729 from pop_output - 48\n",
      "Received spike at time 1729 from pop_output - 49\n",
      "Received spike at time 1729 from pop_output - 50\n",
      "Received spike at time 1729 from pop_output - 51\n",
      "Received spike at time 1729 from pop_output - 52\n",
      "Received spike at time 1729 from pop_output - 53\n",
      "Received spike at time 1729 from pop_output - 54\n",
      "Received spike at time 1729 from pop_output - 55\n",
      "Received spike at time 1729 from pop_output - 56\n",
      "Received spike at time 1729 from pop_output - 57\n",
      "Received spike at time 1729 from pop_output - 58\n",
      "Received spike at time 1729 from pop_output - 59\n",
      "Received spike at time 1729 from pop_output - 60\n",
      "Received spike at time 1729 from pop_output - 61\n",
      "Received spike at time 1729 from pop_output - 62\n",
      "Received spike at time 1729 from pop_output - 63\n",
      "Received spike at time 1729 from pop_output - 64\n",
      "Received spike at time 1729 from pop_output - 65\n",
      "Received spike at time 1729 from pop_output - 66\n",
      "Received spike at time 1729 from pop_output - 67\n",
      "Received spike at time 1729 from pop_output - 68\n",
      "Received spike at time 1729 from pop_output - 69\n",
      "Received spike at time 1729 from pop_output - 70\n",
      "Received spike at time 1729 from pop_output - 71\n",
      "Received spike at time 1729 from pop_output - 72\n",
      "Received spike at time 1729 from pop_output - 73\n",
      "Received spike at time 1729 from pop_output - 74\n",
      "Received spike at time 1729 from pop_output - 75\n",
      "Received spike at time 1729 from pop_output - 76\n",
      "Received spike at time 1729 from pop_output - 77\n",
      "Received spike at time 1729 from pop_output - 78\n",
      "Received spike at time 1729 from pop_output - 79\n",
      "Received spike at time 1729 from pop_output - 80\n",
      "Received spike at time 1729 from pop_output - 81\n",
      "Received spike at time 1729 from pop_output - 82\n",
      "Received spike at time 1729 from pop_output - 83\n",
      "Received spike at time 1729 from pop_output - 84\n",
      "Received spike at time 1729 from pop_output - 85\n",
      "Received spike at time 1729 from pop_output - 86\n",
      "Received spike at time 1729 from pop_output - 87\n",
      "Received spike at time 1729 from pop_output - 88\n",
      "Received spike at time 1729 from pop_output - 89\n",
      "Received spike at time 1729 from pop_output - 90\n",
      "Received spike at time 1729 from pop_output - 91\n",
      "Received spike at time 1729 from pop_output - 92\n",
      "Received spike at time 1729 from pop_output - 93\n",
      "Received spike at time 1729 from pop_output - 94\n",
      "Received spike at time 1729 from pop_output - 95\n",
      "Received spike at time 1729 from pop_output - 96\n",
      "Received spike at time 1729 from pop_output - 97\n",
      "Received spike at time 1729 from pop_output - 98\n",
      "Received spike at time 1729 from pop_output - 99\n",
      "Received spike at time 2662 from pop_output - 0\n",
      "Received spike at time 2662 from pop_output - 1\n",
      "Received spike at time 2662 from pop_output - 2\n",
      "Received spike at time 2662 from pop_output - 3\n",
      "Received spike at time 2662 from pop_output - 4\n",
      "Received spike at time 2662 from pop_output - 5\n",
      "Received spike at time 2662 from pop_output - 6\n",
      "Received spike at time 2662 from pop_output - 7\n",
      "Received spike at time 2662 from pop_output - 8\n",
      "Received spike at time 2662 from pop_output - 9\n",
      "Received spike at time 2662 from pop_output - 10\n",
      "Received spike at time 2662 from pop_output - 11\n",
      "Received spike at time 2662 from pop_output - 12\n",
      "Received spike at time 2662 from pop_output - 13\n",
      "Received spike at time 2662 from pop_output - 14\n",
      "Received spike at time 2662 from pop_output - 15\n",
      "Received spike at time 2662 from pop_output - 16\n",
      "Received spike at time 2662 from pop_output - 17\n",
      "Received spike at time 2662 from pop_output - 18\n",
      "Received spike at time 2662 from pop_output - 19\n",
      "Received spike at time 2662 from pop_output - 20\n",
      "Received spike at time 2662 from pop_output - 21\n",
      "Received spike at time 2662 from pop_output - 22\n",
      "Received spike at time 2662 from pop_output - 23\n",
      "Received spike at time 2662 from pop_output - 24\n",
      "Received spike at time 2662 from pop_output - 25\n",
      "Received spike at time 2662 from pop_output - 26\n",
      "Received spike at time 2662 from pop_output - 27\n",
      "Received spike at time 2662 from pop_output - 28\n",
      "Received spike at time 2662 from pop_output - 29\n",
      "Received spike at time 2662 from pop_output - 30\n",
      "Received spike at time 2662 from pop_output - 31\n",
      "Received spike at time 2662 from pop_output - 32\n",
      "Received spike at time 2662 from pop_output - 33\n",
      "Received spike at time 2662 from pop_output - 34\n",
      "Received spike at time 2662 from pop_output - 35\n",
      "Received spike at time 2662 from pop_output - 36\n",
      "Received spike at time 2662 from pop_output - 37\n",
      "Received spike at time 2662 from pop_output - 38\n",
      "Received spike at time 2662 from pop_output - 39\n",
      "Received spike at time 2662 from pop_output - 40\n",
      "Received spike at time 2662 from pop_output - 41\n",
      "Received spike at time 2662 from pop_output - 42\n",
      "Received spike at time 2662 from pop_output - 43\n",
      "Received spike at time 2662 from pop_output - 44\n",
      "Received spike at time 2662 from pop_output - 45\n",
      "Received spike at time 2662 from pop_output - 46\n",
      "Received spike at time 2662 from pop_output - 47\n",
      "Received spike at time 2662 from pop_output - 48\n",
      "Received spike at time 2662 from pop_output - 49\n",
      "Received spike at time 2662 from pop_output - 50\n",
      "Received spike at time 2662 from pop_output - 51\n",
      "Received spike at time 2662 from pop_output - 52\n",
      "Received spike at time 2662 from pop_output - 53\n",
      "Received spike at time 2662 from pop_output - 54\n",
      "Received spike at time 2662 from pop_output - 55\n",
      "Received spike at time 2662 from pop_output - 56\n",
      "Received spike at time 2662 from pop_output - 57\n",
      "Received spike at time 2662 from pop_output - 58\n",
      "Received spike at time 2662 from pop_output - 59\n",
      "Received spike at time 2662 from pop_output - 60\n",
      "Received spike at time 2662 from pop_output - 61\n",
      "Received spike at time 2662 from pop_output - 62\n",
      "Received spike at time 2662 from pop_output - 63\n",
      "Received spike at time 2662 from pop_output - 64\n",
      "Received spike at time 2662 from pop_output - 65\n",
      "Received spike at time 2662 from pop_output - 66\n",
      "Received spike at time 2662 from pop_output - 67\n",
      "Received spike at time 2662 from pop_output - 68\n",
      "Received spike at time 2662 from pop_output - 69\n",
      "Received spike at time 2662 from pop_output - 70\n",
      "Received spike at time 2662 from pop_output - 71\n",
      "Received spike at time 2662 from pop_output - 72\n",
      "Received spike at time 2662 from pop_output - 73\n",
      "Received spike at time 2662 from pop_output - 74\n",
      "Received spike at time 2662 from pop_output - 75\n",
      "Received spike at time 2662 from pop_output - 76\n",
      "Received spike at time 2662 from pop_output - 77\n",
      "Received spike at time 2662 from pop_output - 78\n",
      "Received spike at time 2662 from pop_output - 79\n",
      "Received spike at time 2662 from pop_output - 80\n",
      "Received spike at time 2662 from pop_output - 81\n",
      "Received spike at time 2662 from pop_output - 82\n",
      "Received spike at time 2662 from pop_output - 83\n",
      "Received spike at time 2662 from pop_output - 84\n",
      "Received spike at time 2662 from pop_output - 85\n",
      "Received spike at time 2662 from pop_output - 86\n",
      "Received spike at time 2662 from pop_output - 87\n",
      "Received spike at time 2662 from pop_output - 88\n",
      "Received spike at time 2662 from pop_output - 89\n",
      "Received spike at time 2662 from pop_output - 90\n",
      "Received spike at time 2662 from pop_output - 91\n",
      "Received spike at time 2662 from pop_output - 92\n",
      "Received spike at time 2662 from pop_output - 93\n",
      "Received spike at time 2662 from pop_output - 94\n",
      "Received spike at time 2662 from pop_output - 95\n",
      "Received spike at time 2662 from pop_output - 96\n",
      "Received spike at time 2662 from pop_output - 97\n",
      "Received spike at time 2662 from pop_output - 98\n",
      "Received spike at time 2662 from pop_output - 99\n"
     ]
    }
   ],
   "source": [
    "live_spikes_connection.add_receive_callback(\"pop_output\", receive_spikes)\n",
    "live_spikes_connection.add_init_callback(\"pop_output\", init_pop)\n",
    "live_spikes_connection.add_start_callback(\"pop_output\",started)"
   ]
  },
  {
   "cell_type": "code",
   "execution_count": null,
   "metadata": {
    "collapsed": true
   },
   "outputs": [],
   "source": []
  }
 ],
 "metadata": {
  "kernelspec": {
   "display_name": "Python 2",
   "language": "python",
   "name": "python2"
  },
  "language_info": {
   "codemirror_mode": {
    "name": "ipython",
    "version": 2
   },
   "file_extension": ".py",
   "mimetype": "text/x-python",
   "name": "python",
   "nbconvert_exporter": "python",
   "pygments_lexer": "ipython2",
   "version": "2.7.11"
  },
  "widgets": {
   "state": {},
   "version": "1.1.2"
  }
 },
 "nbformat": 4,
 "nbformat_minor": 0
}
